{
 "cells": [
  {
   "cell_type": "markdown",
   "id": "10c82bd2",
   "metadata": {},
   "source": [
    "# NBA Timeout Analysis Report\n",
    "Analyzing the Effectiveness of Timeouts in Disrupting Opponent Momentum in NBA Games\n"
   ]
  },
  {
   "cell_type": "markdown",
   "id": "3ed69e86",
   "metadata": {},
   "source": [
    "## Introduction\n",
    "Coaches often call timeouts to \"stop the bleeding\" when the opponent goes on a scoring run.\n",
    "This report examines whether timeouts effectively reduce opponent offensive efficiency using NBA data from 1999–00 to 2022–23.\n"
   ]
  },
  {
   "cell_type": "markdown",
   "id": "df327374",
   "metadata": {},
   "source": [
    "## 1. Overall Timeout Effectiveness\n",
    "![Overall Effectiveness](dsa project/outputs/figures/timeout_effectiveness_pie.png)\n",
    "\n",
    "**Result:** 57.6% of timeouts reduced opponent efficiency (n=1,433/2,490), average change = -3.67 points/possession. t-test: t=-11.61, p<0.001 confirms significance.\n"
   ]
  },
  {
   "cell_type": "markdown",
   "id": "aad827b1",
   "metadata": {},
   "source": [
    "## 2. Distribution of Efficiency Changes\n",
    "![Efficiency Change Distribution](dsa project/outputs/figures/efficiency_change_histogram.png)\n",
    "\n",
    "The histogram is centered at mean = -3.67, showing more negative changes. This reinforces that timeouts generally decrease efficiency.\n"
   ]
  },
  {
   "cell_type": "markdown",
   "id": "9080833a",
   "metadata": {},
   "source": [
    "## 3. Pre- vs Post-Timeout Efficiency\n",
    "![Pre vs Post Efficiency](dsa project/outputs/figures/pre_vs_post_timeout_scatter.png)\n",
    "\n",
    "Scatter plot shows a negative correlation (r = -0.764). Paired t-test: t=11.63, p<0.001 demonstrates a significant drop post-timeout.\n"
   ]
  },
  {
   "cell_type": "markdown",
   "id": "2a2cb0cf",
   "metadata": {},
   "source": [
    "## 4. Effectiveness by Season\n",
    "![Effectiveness by Season](dsa project/outputs/figures/effectiveness_by_season_bar.png)\n",
    "\n",
    "Timeout effectiveness remained stable (~56–59%) across seasons, suggesting consistency despite evolving play styles.\n"
   ]
  },
  {
   "cell_type": "markdown",
   "id": "40159c74",
   "metadata": {},
   "source": [
    "## 5. Run Termination Rates by Season\n",
    "![Run Termination by Season](dsa project/outputs/figures/run_termination_by_season.png)\n",
    "\n",
    "Termination rates mirror effectiveness trends, further supporting consistent timeout impact over eras.\n"
   ]
  },
  {
   "cell_type": "markdown",
   "id": "b874683f",
   "metadata": {},
   "source": [
    "## 6. Effectiveness by Run Size\n",
    "![Effectiveness by Run Size](dsa project/outputs/figures/effectiveness_by_run_size_bar.png)\n",
    "\n",
    "**Observation:** Highest effectiveness (75.8%) occurs on 8–9 point runs, highlighting importance at critical momentum flips.\n"
   ]
  },
  {
   "cell_type": "markdown",
   "id": "0b84a48c",
   "metadata": {},
   "source": [
    "![Efficiency Change by Run Size](dsa project/outputs/figures/efficiency_by_run_size_boxplot.png)\n",
    "\n",
    "Box plot shows larger negative drops in efficiency for bigger runs, confirming targeted disruption.\n"
   ]
  },
  {
   "cell_type": "markdown",
   "id": "b4f53154",
   "metadata": {},
   "source": [
    "## 7. Effectiveness by Quarter\n",
    "![Efficiency by Quarter](dsa project/outputs/figures/efficiency_by_quarter_boxplot.png)\n",
    "\n",
    "Q1 timeouts most effective (66.4%), effectiveness declines through Q4 (54.2%), indicating early-game interventions yield highest impact.\n"
   ]
  },
  {
   "cell_type": "markdown",
   "id": "0a13130a",
   "metadata": {},
   "source": [
    "![Run Termination by Quarter](dsa project/outputs/figures/run_termination_by_quarter.png)\n",
    "\n",
    "Run termination rates follow the same pattern, reinforcing quarter-dependent effects.\n"
   ]
  },
  {
   "cell_type": "markdown",
   "id": "0b6aa975",
   "metadata": {},
   "source": [
    "## 8. Shooting Efficiency Changes\n",
    "![Shooting Efficiency](dsa project/outputs/figures/pre_post_shooting_comparison.png)\n",
    "\n",
    "**Field Goal%:** 55.9% → 41.2% (p<1e-100)\n",
    "**True Shooting%:** 63.6% → 51.1% (p<1e-70)\n",
    "Timeouts significantly disrupt shooting rhythm.\n"
   ]
  },
  {
   "cell_type": "markdown",
   "id": "cdc0d2c5",
   "metadata": {},
   "source": [
    "## 9. Team-Specific Effectiveness\n",
    "![Effectiveness by Team](dsa project/outputs/figures/effectiveness_by_team_bar.png)\n",
    "\n",
    "Top teams: ORL (72.0%), NOP (70.5%), DET (68.0%). Variation suggests differing coaching/adjustment efficacy.\n"
   ]
  },
  {
   "cell_type": "markdown",
   "id": "1895d742",
   "metadata": {},
   "source": [
    "## 10. Summary of Findings\n",
    "- Overall, timeouts reduce opponent efficiency 57.6% of the time (mean -3.67 ppp).\n",
    "- Effectiveness consistent across seasons.\n",
    "- Most effective on larger runs (8–9 pts) and early in the game (Q1).\n",
    "- Significant disruption in shooting percentages.\n",
    "- Team variation highlights strategic differences.\n"
   ]
  },
  {
   "cell_type": "markdown",
   "id": "2a8506c0",
   "metadata": {},
   "source": [
    "## Conclusions & Implications\n",
    "Timeouts provide a robust mechanism to disrupt opponent momentum. Coaches should consider early interventions and prioritize timeouts during larger opponent runs. Shooting disruption appears the primary mechanism, suggesting defensive focus during timeouts.\n"
   ]
  }
 ],
 "metadata": {},
 "nbformat": 4,
 "nbformat_minor": 5
}
