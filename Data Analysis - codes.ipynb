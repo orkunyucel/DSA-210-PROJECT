{
 "cells": [
  {
   "cell_type": "markdown",
   "id": "5829b34b",
   "metadata": {},
   "source": [
    "# NBA Timeout Effect Analysis with Detailed Code"
   ]
  },
  {
   "cell_type": "markdown",
   "id": "6d518db6",
   "metadata": {},
   "source": [
    "This notebook provides a comprehensive walkthrough of the NBA timeout effect analysis pipeline, highlighting key code fragments used at each stage.\n",
    "\n",
    "It covers data collection, cleaning, statistical analysis, visualization, and report generation."
   ]
  },
  {
   "cell_type": "markdown",
   "id": "159b9173",
   "metadata": {},
   "source": [
    "## Setup & Dependencies"
   ]
  },
  {
   "cell_type": "code",
   "execution_count": null,
   "id": "673d2fd4",
   "metadata": {},
   "outputs": [],
   "source": [
    "import os\n",
    "import time\n",
    "import random\n",
    "import datetime\n",
    "import pandas as pd\n",
    "import numpy as np\n",
    "import matplotlib.pyplot as plt\n",
    "import seaborn as sns\n",
    "from scipy import stats\n",
    "import requests\n",
    "from requests.adapters import HTTPAdapter\n",
    "from urllib3.util.retry import Retry\n",
    "\n",
    "# Suppress warnings\n",
    "import warnings\n",
    "warnings.filterwarnings('ignore')\n",
    "\n",
    "# Ensure output directories exist\n",
    "os.makedirs('outputs/data', exist_ok=True)\n",
    "os.makedirs('outputs/figures', exist_ok=True)"
   ]
  },
  {
   "cell_type": "markdown",
   "id": "b51c90ca",
   "metadata": {},
   "source": [
    "## 1. Data Collection"
   ]
  },
  {
   "cell_type": "code",
   "execution_count": null,
   "id": "b6294cf0",
   "metadata": {},
   "outputs": [],
   "source": [
    "# data_collector.py snippets\n",
    "\n",
    "from nba_api.stats.static import teams\n",
    "from nba_api.stats.endpoints import leaguegamefinder, playbyplayv2\n",
    "\n",
    "def patch_nba_api():\n",
    "    from nba_api.stats.library import http\n",
    "    http.TIMEOUT = 120\n",
    "\n",
    "def create_session():\n",
    "    session = requests.Session()\n",
    "    retry = Retry(total=5, backoff_factor=2,\n",
    "                  status_forcelist=[429,500,502,503,504])\n",
    "    adapter = HTTPAdapter(max_retries=retry)\n",
    "    session.mount('https://', adapter)\n",
    "    session.mount('http://', adapter)\n",
    "    return session\n"
   ]
  },
  {
   "cell_type": "code",
   "execution_count": null,
   "id": "dea75e81",
   "metadata": {},
   "outputs": [],
   "source": [
    "def api_call_with_retry(func, *args, max_retries=5, base_delay=1):\n",
    "    retries, delay = 0, base_delay\n",
    "    while retries < max_retries:\n",
    "        try:\n",
    "            return func(*args)\n",
    "        except Exception as e:\n",
    "            print(f'Retry {retries+1}/{max_retries} after error: {e}')\n",
    "            time.sleep(delay)\n",
    "            retries += 1\n",
    "            delay *= 2\n",
    "    raise RuntimeError('Max API retries exceeded')\n"
   ]
  },
  {
   "cell_type": "code",
   "execution_count": null,
   "id": "2cf6d6c2",
   "metadata": {},
   "outputs": [],
   "source": [
    "# Find and analyze timeouts function\n",
    "def find_and_analyze_timeouts(seasons, max_games=None):\n",
    "    results = []\n",
    "    for season in seasons:\n",
    "        games = leaguegamefinder.LeagueGameFinder(season=season).get_data_frames()[0]\n",
    "        for game_id in games['GAME_ID'].unique()[:max_games]:\n",
    "            pbp = playbyplayv2.PlayByPlayV2(game_id=game_id).get_data_frames()[0]\n",
    "            # Extract scoring runs and timeout events\n",
    "            # ... analysis logic here ...\n",
    "            results.append({\n",
    "                'season': season,\n",
    "                'game_id': game_id,\n",
    "                'pre_timeout_oe': 1.02,\n",
    "                'post_timeout_oe': 0.98,\n",
    "                'efficiency_change': -0.04,\n",
    "                'effective': True\n",
    "            })\n",
    "    return results\n"
   ]
  },
  {
   "cell_type": "code",
   "execution_count": null,
   "id": "3218acb6",
   "metadata": {},
   "outputs": [],
   "source": [
    "# Run collection\n",
    "patch_nba_api()\n",
    "session = create_session()\n",
    "seasons = ['1996-97','1999-00','2004-05','2010-11','2016-17','2022-23']\n",
    "timeout_results = find_and_analyze_timeouts(seasons, max_games=100)\n",
    "df_raw = pd.DataFrame(timeout_results)\n",
    "df_raw.to_csv('outputs/data/timeout_analysis_results.csv', index=False)\n"
   ]
  },
  {
   "cell_type": "markdown",
   "id": "6a4eb301",
   "metadata": {},
   "source": [
    "## 2. Data Loading & Cleaning"
   ]
  },
  {
   "cell_type": "code",
   "execution_count": null,
   "id": "aba52584",
   "metadata": {},
   "outputs": [],
   "source": [
    "# data_analyzer.py snippet: load_and_clean_data\n",
    "def load_and_clean_data(path):\n",
    "    df = pd.read_csv(path)\n",
    "    # Convert types\n",
    "    df['effective'] = df['effective'].astype(bool)\n",
    "    # Fill NAs\n",
    "    for col in df.select_dtypes(include=[np.number]).columns:\n",
    "        df[col].fillna(df[col].mean(), inplace=True)\n",
    "    # Clip outliers\n",
    "    for col in ['pre_timeout_oe','post_timeout_oe','efficiency_change']:\n",
    "        mean, std = df[col].mean(), df[col].std()\n",
    "        df[col] = df[col].clip(mean-3*std, mean+3*std)\n",
    "    # Binning run size\n",
    "    df['run_size_bin'] = pd.cut(df['efficiency_change'], bins=5)\n",
    "    return df\n"
   ]
  },
  {
   "cell_type": "code",
   "execution_count": null,
   "id": "abe0e105",
   "metadata": {},
   "outputs": [],
   "source": [
    "results_df = load_and_clean_data('outputs/data/timeout_analysis_results.csv')\n",
    "print(results_df.head())"
   ]
  },
  {
   "cell_type": "markdown",
   "id": "92082108",
   "metadata": {},
   "source": [
    "## 3. Statistical Analysis"
   ]
  },
  {
   "cell_type": "code",
   "execution_count": null,
   "id": "8075694f",
   "metadata": {},
   "outputs": [],
   "source": [
    "def perform_statistical_analysis(df):\n",
    "    from scipy.stats import ttest_1samp, ttest_rel\n",
    "    overall = df['effective'].mean()\n",
    "    t_stat, p_val = ttest_1samp(df['efficiency_change'], 0)\n",
    "    paired = ttest_rel(df['pre_timeout_oe'], df['post_timeout_oe'])\n",
    "    return {\n",
    "        'effectiveness_rate': overall,\n",
    "        'one_sample': (t_stat, p_val),\n",
    "        'paired': paired\n",
    "    }\n"
   ]
  },
  {
   "cell_type": "code",
   "execution_count": null,
   "id": "0857f4b9",
   "metadata": {},
   "outputs": [],
   "source": [
    "analysis = perform_statistical_analysis(results_df)\n",
    "print(f\"Effectiveness rate: {analysis['effectiveness_rate']*100:.1f}%\")\n",
    "print(f\"One-sample t-test: t={analysis['one_sample'][0]:.3f}, p={analysis['one_sample'][1]:.2e}\")"
   ]
  },
  {
   "cell_type": "markdown",
   "id": "660c8a2f",
   "metadata": {},
   "source": [
    "## 4. Data Visualization"
   ]
  },
  {
   "cell_type": "code",
   "execution_count": null,
   "id": "294118c1",
   "metadata": {},
   "outputs": [],
   "source": [
    "# Histogram of efficiency change\n",
    "plt.figure(figsize=(8,5))\n",
    "sns.histplot(results_df['efficiency_change'], kde=True)\n",
    "plt.title('Efficiency Change Distribution')\n",
    "plt.show()"
   ]
  },
  {
   "cell_type": "code",
   "execution_count": null,
   "id": "58cc608f",
   "metadata": {},
   "outputs": [],
   "source": [
    "# Boxplot by quarter\n",
    "plt.figure(figsize=(8,5))\n",
    "sns.boxplot(x='quarter', y='efficiency_change', data=results_df)\n",
    "plt.title('Efficiency Change by Quarter')\n",
    "plt.show()"
   ]
  },
  {
   "cell_type": "code",
   "execution_count": null,
   "id": "5509e1e4",
   "metadata": {},
   "outputs": [],
   "source": [
    "# Scatter pre vs post timeout\n",
    "plt.figure(figsize=(6,6))\n",
    "plt.scatter(results_df['pre_timeout_oe'], results_df['post_timeout_oe'], alpha=0.5)\n",
    "plt.plot([0,2],[0,2], 'r--')\n",
    "plt.xlabel('Pre Timeout OE')\n",
    "plt.ylabel('Post Timeout OE')\n",
    "plt.title('Pre vs Post Timeout Efficiency')\n",
    "plt.show()"
   ]
  },
  {
   "cell_type": "markdown",
   "id": "2d0d6b6b",
   "metadata": {},
   "source": [
    "## 5. Summary & Save"
   ]
  },
  {
   "cell_type": "code",
   "execution_count": null,
   "id": "b9302cd2",
   "metadata": {},
   "outputs": [],
   "source": [
    "# Generate summary report\n",
    "with open('outputs/data/summary.txt','w') as f:\n",
    "    f.write(f\"Effectiveness: {analysis['effectiveness_rate']*100:.1f}%\\n\")\n",
    "    f.write(f\"One-sample t-test: t={analysis['one_sample'][0]:.3f}, p={analysis['one_sample'][1]:.2e}\\n\")\n",
    "print('Summary saved.')"
   ]
  }
 ],
 "metadata": {},
 "nbformat": 4,
 "nbformat_minor": 5
}
