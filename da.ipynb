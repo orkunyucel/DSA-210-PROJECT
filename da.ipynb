{
  "cells": [
    {
      "cell_type": "markdown",
      "metadata": {},
      "source": [
        "# NBA Timeout Effect Analysis\n",
        "\n",
        "## Overview\n",
        "This analysis investigates whether timeouts called during an opponent's scoring run effectively disrupt their momentum by examining changes in offensive efficiency before and after a timeout is called. The project analyzes NBA play-by-play data across multiple seasons to quantify the effectiveness of timeouts in \"stopping the bleeding.\"\n",
        "\n",
        "## Research Question\n",
        "Do timeouts called during an opponent's scoring run actually disrupt momentum by decreasing their offensive efficiency?\n",
        "\n",
        "## Hypothesis\n",
        "- **Null Hypothesis (H\u2080):** When the opponent team makes a scoring run and a timeout is called, the opponent's average offensive efficiency from the start of the period to the timeout equals its average offensive efficiency from the timeout to the end of the period.\n",
        "- **Alternative Hypothesis (H\u2081):** Under the same scenario, the opponent's average offensive efficiency changes after a timeout is called."
      ]
    },
    {
      "cell_type": "markdown",
      "metadata": {},
      "source": [
        "## Dataset\n",
        "\n",
        "The analysis uses play-by-play data from NBA games across five different seasons:\n",
        "- 1996-97 (limited sample)\n",
        "- 1999-00\n",
        "- 2004-05\n",
        "- 2010-11\n",
        "- 2016-17\n",
        "- 2022-23\n",
        "\n",
        "We analyzed a total of 2,490 timeouts called during opponent scoring runs (defined as 6+ consecutive points).\n",
        "\n",
        "For each timeout, we measured:\n",
        "- Pre-timeout offensive efficiency (points per possession)\n",
        "- Post-timeout offensive efficiency\n",
        "- Change in efficiency (post minus pre)\n",
        "- Whether the timeout was effective (reduced opponent efficiency)\n",
        "- Whether the scoring run was terminated after the timeout"
      ]
    },
    {
      "cell_type": "markdown",
      "metadata": {},
      "source": [
        "## Key Findings\n",
        "\n",
        "### Overall Effectiveness\n",
        "\n",
        "The analysis shows that timeouts are generally effective at disrupting opponent momentum:\n",
        "\n",
        "- 57.6% of timeouts (1,433 out of 2,490) effectively reduced opponent offensive efficiency\n",
        "- Average efficiency change: -3.669 points per possession\n",
        "- The effect is statistically significant (t-test: t=-11.608, p=2.24e-30)\n",
        "\n",
        "Let's examine the overall effectiveness through our pie chart:"
      ]
    },
    {
      "cell_type": "markdown",
      "metadata": {},
      "source": [
        "![Overall Timeout Effectiveness](outputs/figures/timeout_effectiveness_pie.png)\n",
        "\n",
        "**Figure 1: Overall Timeout Effectiveness**. This pie chart shows that 57.6% of timeouts (1,433 out of 2,490) effectively reduced opponent offensive efficiency, while 42.4% (1,057 timeouts) were ineffective. This indicates that timeouts are generally effective at \"stopping the bleeding\" when an opponent is on a scoring run."
      ]
    },
    {
      "cell_type": "markdown",
      "metadata": {},
      "source": [
        "### Distribution of Efficiency Change\n",
        "\n",
        "The distribution of efficiency changes provides more insight into the magnitude of timeout effects:"
      ]
    },
    {
      "cell_type": "markdown",
      "metadata": {},
      "source": [
        "![Efficiency Change Distribution](outputs/figures/efficiency_change_histogram.png)\n",
        "\n",
        "**Figure 2: Distribution of Offensive Efficiency Change After Timeouts**. This histogram shows how opponent offensive efficiency changes after a timeout is called. The distribution is centered around a mean of -3.669 points per possession (red dashed line) and a median of -4.000 (green dotted line), indicating that timeouts typically reduce opponent efficiency. The blue curve represents the density distribution. Statistical testing (t=-11.608, p=2.24e-30) confirms this effect is highly significant."
      ]
    },
    {
      "cell_type": "markdown",
      "metadata": {},
      "source": [
        "### Pre-Timeout vs. Post-Timeout Efficiency\n",
        "\n",
        "To better understand the relationship between pre-timeout and post-timeout efficiency, we created a scatter plot:"
      ]
    },
    {
      "cell_type": "markdown",
      "metadata": {},
      "source": [
        "![Pre vs Post Timeout Efficiency](outputs/figures/pre_vs_post_timeout_scatter.png)\n",
        "\n",
        "**Figure 3: Pre-Timeout vs. Post-Timeout Offensive Efficiency**. This scatter plot compares offensive efficiency before and after timeouts. Points below the diagonal line (green) represent effective timeouts where post-timeout efficiency decreased. Points above the line (red) represent ineffective timeouts. The strong negative correlation (-0.764) and highly significant paired t-test result (t=11.626, p=1.84e-30) confirm that timeouts systematically reduce opponent efficiency."
      ]
    },
    {
      "cell_type": "markdown",
      "metadata": {},
      "source": [
        "### Shooting Efficiency Comparison\n",
        "\n",
        "Timeouts significantly affect opponent shooting percentages:"
      ]
    },
    {
      "cell_type": "markdown",
      "metadata": {},
      "source": [
        "![Shooting Efficiency Comparison](outputs/figures/pre_post_shooting_comparison.png)\n",
        "\n",
        "**Figure 4: Opponent Shooting Efficiency Before and After Timeouts**. This figure shows dramatic decreases in both field goal percentage (left) and true shooting percentage (right) after timeouts. Field goal percentage drops from 55.9% to 41.2% (p=4.43e-127), while true shooting percentage falls from 63.6% to 51.1% (p=3.91e-79). These extreme p-values indicate the effect is highly significant."
      ]
    },
    {
      "cell_type": "markdown",
      "metadata": {},
      "source": [
        "### Timeout Effectiveness by Run Size\n",
        "\n",
        "Timeout effectiveness varies by the size of the opponent's scoring run:"
      ]
    },
    {
      "cell_type": "markdown",
      "metadata": {},
      "source": [
        "![Timeout Effectiveness by Run Size](outputs/figures/effectiveness_by_run_size_bar.png)\n",
        "\n",
        "**Figure 5: Timeout Effectiveness Rate by Opponent Scoring Run Size**. This bar chart shows that timeouts are most effective against larger scoring runs. Effectiveness rates are 75.8% against 8-9 point runs and 66.7% against 10-11 point runs, compared to the overall average of 57.6% (red dashed line). The delta (\u0394) values show the average efficiency change for each run size, with larger negative values indicating greater effectiveness."
      ]
    },
    {
      "cell_type": "markdown",
      "metadata": {},
      "source": [
        "We can also examine the efficiency change by run size using a box plot:"
      ]
    },
    {
      "cell_type": "markdown",
      "metadata": {},
      "source": [
        "![Efficiency Change by Run Size](outputs/figures/efficiency_by_run_size_boxplot.png)\n",
        "\n",
        "**Figure 6: Offensive Efficiency Change by Opponent Scoring Run Size**. This box plot confirms that timeouts have greater impact on larger scoring runs. The most substantial efficiency reductions occur after 8-9 point runs (mean = -10.110) and 10-11 point runs (mean = -9.333), compared to more modest reductions for 6-7 point runs (mean = -3.395)."
      ]
    },
    {
      "cell_type": "markdown",
      "metadata": {},
      "source": [
        "### Timeout Effectiveness by Quarter\n",
        "\n",
        "Timeout effectiveness also varies by game quarter:"
      ]
    },
    {
      "cell_type": "markdown",
      "metadata": {},
      "source": [
        "![Efficiency Change by Quarter](outputs/figures/efficiency_by_quarter_boxplot.png)\n",
        "\n",
        "**Figure 7: Offensive Efficiency Change by Quarter**. This box plot shows efficiency changes across different quarters. First quarter (Q1) timeouts appear most effective at disrupting opponent efficiency (mean = -7.594), followed by fourth quarter (Q4) and second quarter (Q2) timeouts. Overtime (OT1) and third quarter (Q3) timeouts show the smallest effects."
      ]
    },
    {
      "cell_type": "markdown",
      "metadata": {},
      "source": [
        "We can also look at run termination rates by quarter:"
      ]
    },
    {
      "cell_type": "markdown",
      "metadata": {},
      "source": [
        "![Run Termination by Quarter](outputs/figures/run_termination_by_quarter.png)\n",
        "\n",
        "**Figure 8: Opponent Scoring Run Termination Rate by Quarter**. This chart shows the percentage of opponent scoring runs that were stopped after a timeout in each quarter. First quarter (Q1) timeouts are most effective at terminating opponent runs (66.4%), while fourth quarter (Q4) timeouts are least effective (54.2%). The red dashed line shows the overall average (57.6%)."
      ]
    },
    {
      "cell_type": "markdown",
      "metadata": {},
      "source": [
        "### Timeout Effectiveness by Season\n",
        "\n",
        "We can examine how timeout effectiveness has changed over different NBA eras:"
      ]
    },
    {
      "cell_type": "markdown",
      "metadata": {},
      "source": [
        "![Effectiveness by Season](outputs/figures/effectiveness_by_season_bar.png)\n",
        "\n",
        "**Figure 9: Timeout Effectiveness Rate by NBA Season**. This bar chart shows that timeout effectiveness has been relatively consistent across different NBA eras, with a slight decline in recent seasons. The 1996-97 season shows the highest effectiveness rate (70.0%), though with a small sample size (n=20). Recent seasons (2016-17, 2022-23) show effectiveness rates slightly below the overall average of 57.6% (red dashed line)."
      ]
    },
    {
      "cell_type": "markdown",
      "metadata": {},
      "source": [
        "We can also look at run termination by season using a stacked bar chart:"
      ]
    },
    {
      "cell_type": "markdown",
      "metadata": {},
      "source": [
        "![Run Termination by Season](outputs/figures/run_termination_by_season.png)\n",
        "\n",
        "**Figure 10: Opponent Scoring Run Termination by Season**. This stacked bar chart shows the number and percentage of opponent scoring runs that were terminated (green) or continued (red) after a timeout in each season. The percentages in the green bars show the termination rate for each season. The 1996-97 season had the highest rate at 70.0%, while other seasons show consistent rates between 56-59%."
      ]
    },
    {
      "cell_type": "markdown",
      "metadata": {},
      "source": [
        "### Timeout Effectiveness by Team\n",
        "\n",
        "Different NBA teams show varying levels of timeout effectiveness:"
      ]
    },
    {
      "cell_type": "markdown",
      "metadata": {},
      "source": [
        "![Effectiveness by Team](outputs/figures/effectiveness_by_team_bar.png)\n",
        "\n",
        "**Figure 11: Timeout Effectiveness Rate by NBA Team (Top 15)**. This chart shows the effectiveness rates for the top 15 NBA teams at calling timeouts to disrupt opponent momentum. Orlando (ORL, 72.0%), New Orleans (NOP, 70.5%), and Detroit (DET, 68.0%) have the highest effectiveness rates, significantly above the overall average of 57.6% (red dashed line). This suggests potential differences in coaching strategies or team dynamics affecting timeout effectiveness."
      ]
    },
    {
      "cell_type": "markdown",
      "metadata": {},
      "source": [
        "## Statistical Significance\n",
        "\n",
        "Our statistical testing confirms that the effect of timeouts on opponent offensive efficiency is highly significant:\n",
        "\n",
        "- **One-sample t-test** (comparing efficiency change to zero):  \n",
        "  t = -11.608, p = 2.24e-30\n",
        "\n",
        "- **Paired t-test** (comparing pre-timeout vs. post-timeout efficiency):  \n",
        "  t = 11.626, p = 1.84e-30\n",
        "\n",
        "The extremely small p-values (< 0.001) allow us to confidently reject the null hypothesis and conclude that timeouts do significantly affect opponent offensive efficiency."
      ]
    },
    {
      "cell_type": "markdown",
      "metadata": {},
      "source": [
        "## Conclusion\n",
        "\n",
        "Based on our analysis of 2,490 timeouts across multiple NBA seasons, we can draw several key conclusions:\n",
        "\n",
        "1. **Timeouts are effective at disrupting opponent momentum**: 57.6% of timeouts reduce opponent offensive efficiency, with an average reduction of 3.669 points per possession.\n",
        "\n",
        "2. **The effect is statistically significant**: Both one-sample and paired t-tests confirm that the change in efficiency is not due to random chance (p < 0.001).\n",
        "\n",
        "3. **Timeout effectiveness varies by context**:\n",
        "   - **Run size**: Timeouts are more effective against larger scoring runs (8-11 points)\n",
        "   - **Game quarter**: First quarter timeouts are most effective\n",
        "   - **Teams**: Some teams (ORL, NOP, DET) show significantly higher timeout effectiveness\n",
        "\n",
        "4. **Shooting efficiency dramatically decreases after timeouts**: Field goal percentage drops from 55.9% to 41.2%, and true shooting percentage from 63.6% to 51.1%.\n",
        "\n",
        "These findings provide empirical evidence supporting the common coaching practice of calling timeouts to \"stop the bleeding\" when the opponent is on a scoring run. The evidence suggests this strategy is generally effective, though its effectiveness varies based on context."
      ]
    },
   
  ],
  "metadata": {
    "kernelspec": {
      "display_name": "Python 3",
      "language": "python",
      "name": "python3"
    },
    "language_info": {
      "file_extension": ".py",
      "mimetype": "text/x-python",
      "name": "python",
      "version": "3.8.8"
    }
  },
  "nbformat": 4,
  "nbformat_minor": 4
}
