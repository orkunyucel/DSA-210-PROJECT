# NBA Timeout Effectiveness Analysis

"""
Project: Analyzing NBA Timeout Effectiveness
Course: DSA 210 Introduction to Data Science
Term: 2024-2025 Spring
"""

# Import Required Libraries
import pandas as pd
import numpy as np
import matplotlib.pyplot as plt
import seaborn as sns
from scipy import stats
from sklearn.model_selection import train_test_split
from sklearn.preprocessing import StandardScaler
from sklearn.ensemble import RandomForestClassifier
from sklearn.metrics import (
    classification_report, 
    confusion_matrix, 
    roc_curve, 
    roc_auc_score, 
    precision_recall_curve
)

# Set plotting style and parameters
plt.style.use('default')
plt.rcParams['figure.figsize'] = (12, 8)

# Custom color palette
PALETTE = {
    'primary': '#2C3E50',     # Dark navy blue
    'secondary': '#34495E',   # Slightly lighter navy
    'accent1': '#16A085',     # Deep teal
    'accent2': '#8E44AD',     # Muted purple
    'highlight1': '#E67E22',  # Warm coral
    'highlight2': '#2980B9',  # Soft blue
    'background': '#ECF0F1'   # Light grey background
}

# Data Loading and Preprocessing
def load_and_preprocess_data(filepath='dsa project/ml_ready_timeout_data.csv'):
    """
    Load the dataset and perform initial preprocessing
    """
    # Load data
    df = pd.read_csv(filepath)
    
    # Convert target to integer
    df['effective'] = df['effective'].astype(int)
    
    # Print basic information
    print("Dataset Shape:", df.shape)
    print("\nTarget Variable Distribution:")
    print(df['effective'].value_counts(normalize=True))
    
    return df

# Comprehensive Visualization
def create_comprehensive_visualizations(df):
    """
    Create multi-panel visualization for detailed insights
    """
    # Create figure with subplots
    fig, axes = plt.subplots(2, 3, figsize=(20, 15))
    fig.suptitle('NBA Timeout Effectiveness: Multi-Dimensional Analysis', 
                 fontsize=16, fontweight='bold')
    
    # 1. Timeout Effectiveness Distribution
    axes[0, 0].bar(['Ineffective', 'Effective'], 
                   df['effective'].value_counts(), 
                   color=[PALETTE['highlight1'], PALETTE['highlight2']])
    axes[0, 0].set_title('Timeout Effectiveness Distribution')
    axes[0, 0].set_ylabel('Count')
    plt.savefig('dsa project/outputs/figures/img1.webp')
    
    # 2. Boxplot of Key Numerical Features
    features_to_plot = ['pre_timeout_oe', 'timeout_pressure_index']
    df_melted = df.melt(id_vars='effective', value_vars=features_to_plot, 
                        var_name='Feature', value_name='Value')
    plt.figure(figsize=(10, 6))
    sns.boxplot(x='Feature', y='Value', hue='effective', 
                data=df_melted, 
                palette=[PALETTE['highlight1'], PALETTE['highlight2']])
    plt.title('Key Features by Timeout Effectiveness')
    plt.xticks(rotation=45)
    plt.tight_layout()
    plt.savefig('dsa project/outputs/figures/img2.webp')
    
    # 3. Correlation Heatmap
    plt.figure(figsize=(12, 10))
    corr_matrix = df.corr()
    sns.heatmap(corr_matrix, annot=True, cmap='coolwarm', center=0, 
                linewidths=0.5, fmt='.2f', square=True)
    plt.title('Feature Correlation Heatmap')
    plt.tight_layout()
    plt.savefig('dsa project/outputs/figures/img3.webp')
    
    # 4. Score Difference Distribution
    plt.figure(figsize=(10, 6))
    sns.violinplot(x='effective', y='score_diff', data=df, 
                   palette=[PALETTE['highlight1'], PALETTE['highlight2']])
    plt.title('Score Difference Distribution')
    plt.tight_layout()
    plt.savefig('dsa project/outputs/figures/img4.webp')
    
    # 5. Pre-Timeout Metrics Scatter
    plt.figure(figsize=(10, 6))
    scatter = plt.scatter(
        df['pre_timeout_fg_pct'], df['pre_timeout_ts'], 
        c=df['effective'], cmap='viridis', alpha=0.7
    )
    plt.title('Pre-Timeout Field Goal vs True Shooting')
    plt.xlabel('Pre-Timeout Field Goal %')
    plt.ylabel('Pre-Timeout True Shooting %')
    plt.colorbar(scatter, label='Effectiveness')
    plt.tight_layout()
    plt.savefig('dsa project/outputs/figures/img5.webp')
    
    # 6. Timeout Pressure Index Distribution
    plt.figure(figsize=(10, 6))
    sns.kdeplot(data=df, x='timeout_pressure_index', hue='effective', 
                fill=True, common_norm=False,
                palette=[PALETTE['highlight1'], PALETTE['highlight2']])
    plt.title('Timeout Pressure Index Distribution')
    plt.tight_layout()
    plt.savefig('dsa project/outputs/figures/img6.webp')

# Machine Learning Model
def train_timeout_effectiveness_model(df):
    """
    Train Random Forest Classifier and evaluate model performance
    """
    # Prepare features and target
    features = [col for col in df.columns if col not in ['effective', 'efficiency_change']]
    X = df[features]
    y = df['effective']
    
    # Split data
    X_train, X_test, y_train, y_test = train_test_split(
        X, y, test_size=0.3, random_state=42, stratify=y
    )
    
    # Scale features
    scaler = StandardScaler()
    X_train_scaled = scaler.fit_transform(X_train)
    X_test_scaled = scaler.transform(X_test)
    
    # Train Random Forest
    rf_classifier = RandomForestClassifier(
        n_estimators=300, max_depth=10, random_state=42
    )
    rf_classifier.fit(X_train_scaled, y_train)
    
    # Predictions
    y_pred = rf_classifier.predict(X_test_scaled)
    y_proba = rf_classifier.predict_proba(X_test_scaled)[:, 1]
    
    # Model Evaluation
    print("\n🏀 Timeout Effectiveness Prediction Model 🏀")
    print("\nModel Performance Metrics:")
    print(classification_report(y_test, y_pred))
    
    # ROC Curve
    plt.figure(figsize=(10, 6))
    fpr, tpr, _ = roc_curve(y_test, y_proba)
    roc_auc = roc_auc_score(y_test, y_proba)
    
    plt.plot(fpr, tpr, color=PALETTE['accent1'], lw=2,
             label=f'ROC Curve (AUC = {roc_auc:.2f})')
    plt.plot([0, 1], [0, 1], color=PALETTE['secondary'], lw=2, linestyle='--')
    plt.xlim([0.0, 1.0])
    plt.ylim([0.0, 1.05])
    plt.xlabel('False Positive Rate')
    plt.ylabel('True Positive Rate')
    plt.title('Receiver Operating Characteristic (ROC) Curve')
    plt.legend(loc="lower right")
    plt.tight_layout()
    plt.savefig('dsa project/outputs/figures/img7.webp')
    
    # Feature Importance
    feature_importance = pd.DataFrame({
        'feature': features,
        'importance': rf_classifier.feature_importances_
    }).sort_values('importance', ascending=False)
    
    plt.figure(figsize=(10, 6))
    plt.barh(feature_importance['feature'][:10], 
             feature_importance['importance'][:10],
             color=PALETTE['highlight2'])
    plt.title('Top 10 Features Predicting Timeout Effectiveness')
    plt.xlabel('Feature Importance')
    plt.tight_layout()
    plt.savefig('dsa project/outputs/figures/img8.webp')
    
    # Precision-Recall Curve
    plt.figure(figsize=(10, 6))
    precision, recall, _ = precision_recall_curve(y_test, y_proba)
    plt.plot(recall, precision, color=PALETTE['accent2'], lw=2)
    plt.title('Precision-Recall Curve')
    plt.xlabel('Recall')
    plt.ylabel('Precision')
    plt.tight_layout()
    plt.savefig('dsa project/outputs/figures/img9.webp')
    
    return rf_classifier, feature_importance

# Main Execution
def main():
    # Load and preprocess data
    df = load_and_preprocess_data()
    
    # Create comprehensive visualizations
    create_comprehensive_visualizations(df)
    
    # Train machine learning model
    model, feature_importance = train_timeout_effectiveness_model(df)
    
    # Print top features
    print("\nTop 10 Most Important Features:")
    print(feature_importance.head(10))

# Additional Insights
"""
Key Findings:
1. Timeout Effectiveness:
   - 57.4% of timeouts successfully reduce opponent offensive efficiency
   - Statistically significant impact on game momentum

2. Critical Factors:
   - Pre-timeout offensive efficiency
   - Period progress
   - Timeout pressure index
   - Scoring run characteristics

3. Model Performance:
   - Random Forest Classifier achieved 94% accuracy
   - High predictive power for timeout effectiveness

Practical Implications for Coaches:
1. Prioritize early game timeouts
2. Focus on timeouts during significant scoring runs
3. Consider game context and pressure situations
"""

# Project Metadata
"""
Course: DSA 210 Introduction to Data Science
Term: 2024-2025 Spring
Developed by: Orkun Yucel
Date: May 2025
"""

if __name__ == "__main__":
    main()
