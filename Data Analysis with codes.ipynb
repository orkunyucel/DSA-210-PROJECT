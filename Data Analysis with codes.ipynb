{
 "cells": [
  {
   "cell_type": "markdown",
   "id": "888316dc",
   "metadata": {},
   "source": [
    "# NBA Timeout Effect Analysis with Code"
   ]
  },
  {
   "cell_type": "markdown",
   "id": "2723b1e7",
   "metadata": {},
   "source": [
    "## Overview\n",
    "This notebook walks through our NBA timeout effect analysis, highlighting where and how key code components are used without showing full implementations."
   ]
  },
  {
   "cell_type": "markdown",
   "id": "38aa0147",
   "metadata": {},
   "source": [
    "## 1. Data Collection\n",
    "We use `data_collector.py` to fetch and process play-by-play data and extract timeout events."
   ]
  },
  {
   "cell_type": "code",
   "execution_count": null,
   "id": "3e65681f",
   "metadata": {},
   "outputs": [],
   "source": [
    "# Example snippet from data_collector.py\n",
    "from data_collector import patch_nba_api, create_session, find_and_analyze_timeouts\n",
    "\n",
    "# 1. Patch the NBA API settings\n",
    "patch_nba_api()\n",
    "\n",
    "# 2. Create a retry-enabled session\n",
    "session = create_session()\n",
    "\n",
    "# 3. Analyze timeouts across seasons (returns a list of dicts)\n",
    "seasons = ['1996-97','1999-00','2004-05','2010-11','2016-17','2022-23']\n",
    "timeout_results = find_and_analyze_timeouts(seasons)\n",
    "\n",
    "# 4. Convert to DataFrame and save\n",
    "import pandas as pd\n",
    "df = pd.DataFrame(timeout_results)\n",
    "df.to_csv('outputs/timeout_analysis_results.csv', index=False)\n"
   ]
  },
  {
   "cell_type": "markdown",
   "id": "5105c734",
   "metadata": {},
   "source": [
    "## 2. Data Loading & Cleaning\n",
    "Next, we clean up the collected data using `load_and_clean_data` in `data_analyzer.py`."
   ]
  },
  {
   "cell_type": "code",
   "execution_count": null,
   "id": "ba79ef92",
   "metadata": {},
   "outputs": [],
   "source": [
    "# Example from data_analyzer.py\n",
    "from data_analyzer import load_and_clean_data\n",
    "\n",
    "# Load and clean the CSV file\n",
    "file_path = 'outputs/timeout_analysis_results.csv'\n",
    "results_df = load_and_clean_data(file_path)\n",
    "\n",
    "# Now `results_df` has:\n",
    "# - Boolean flags converted\n",
    "# - Missing numeric values filled\n",
    "# - Outliers clipped\n",
    "# - Run size and score situation bins added\n"
   ]
  },
  {
   "cell_type": "markdown",
   "id": "c3175b7a",
   "metadata": {},
   "source": [
    "## 3. Statistical Analysis\n",
    "We perform hypothesis testing on the efficiency change."
   ]
  },
  {
   "cell_type": "code",
   "execution_count": null,
   "id": "a3f48c7e",
   "metadata": {},
   "outputs": [],
   "source": [
    "# Snippet illustrating statistical analysis\n",
    "from data_analyzer import perform_statistical_analysis\n",
    "\n",
    "analysis_results = perform_statistical_analysis(results_df)\n",
    "print(\"Overall effectiveness rate: {:.1f}%\".format(analysis_results['overall']['effectiveness_rate']*100))\n",
    "print(\"One-sample t-test: t = {:.3f}, p = {:.2e}\".format(\n",
    "    analysis_results['t_test']['t_statistic'],\n",
    "    analysis_results['t_test']['p_value']\n",
    "))"
   ]
  },
  {
   "cell_type": "markdown",
   "id": "5bfa7fc4",
   "metadata": {},
   "source": [
    "## 4. Data Visualization\n",
    "Finally, we generate visualizations to illustrate the findings:"
   ]
  },
  {
   "cell_type": "code",
   "execution_count": null,
   "id": "aeb1a3cd",
   "metadata": {},
   "outputs": [],
   "source": [
    "# Example: Distribution of Efficiency Change\n",
    "from data_analyzer import efficiency_histogram\n",
    "\n",
    "# Create and display the histogram\n",
    "fig_hist = efficiency_histogram(results_df)\n",
    "fig_hist.show()"
   ]
  },
  {
   "cell_type": "markdown",
   "id": "7f3ece74",
   "metadata": {},
   "source": [
    "## Results\n",
    "Below are selected figures showcasing our key findings."
   ]
  },
  {
   "cell_type": "markdown",
   "id": "f15eebba",
   "metadata": {},
   "source": [
    "![Overall Timeout Effectiveness](dsa%20project/outputs/figures/timeout_effectiveness_pie.png)\n",
    "**Figure 1:** Overall effectiveness pie chart."
   ]
  },
  {
   "cell_type": "markdown",
   "id": "3700ab93",
   "metadata": {},
   "source": [
    "![Efficiency Change Distribution](dsa%20project/outputs/figures/efficiency_change_histogram.png)\n",
    "**Figure 2:** Histogram of efficiency changes."
   ]
  },
  {
   "cell_type": "markdown",
   "id": "e60b7bc3",
   "metadata": {},
   "source": [
    "![Pre vs Post Timeout Efficiency](dsa%20project/outputs/figures/pre_vs_post_timeout_scatter.png)\n",
    "**Figure 3:** Scatter of pre- vs post-timeout efficiency."
   ]
  },
 ],
 "metadata": {},
 "nbformat": 4,
 "nbformat_minor": 5
}
