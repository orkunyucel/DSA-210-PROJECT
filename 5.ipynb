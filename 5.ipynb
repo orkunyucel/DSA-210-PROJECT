{
 "cells": [
  {
   "cell_type": "markdown",
   "id": "147cbd9d",
   "metadata": {},
   "source": [
    "# NBA Timeout Analysis Report\n",
    "### Analyzing the Effectiveness of Timeouts in Disrupting Opponent Momentum\n"
   ]
  },
  {
   "cell_type": "markdown",
   "id": "1ef70511",
   "metadata": {},
   "source": [
    "Coaches call timeouts to halt opponent scoring runs (“stopping the bleeding”). This report uses NBA data from 1999–00 to 2022–23 to test whether timeouts significantly reduce opponent offensive efficiency."
   ]
  },
  {
   "cell_type": "markdown",
   "id": "d1ceb4d8",
   "metadata": {},
   "source": [
    "##\n",
    "![timeout_effectiveness_pie.png](./dsa project/outputs/figures/timeout_effectiveness_pie.png)\n",
    "\n",
    "Figure 1: Pie chart showing that out of 2,490 timeouts, 57.6% (1,433) effectively reduced opponent offensive efficiency while 42.4% (1,057) did not, indicating a majority success rate.\n"
   ]
  },
  {
   "cell_type": "markdown",
   "id": "6d8c1a0a",
   "metadata": {},
   "source": [
    "##\n",
    "![efficiency_change_histogram.png](./dsa project/outputs/figures/efficiency_change_histogram.png)\n",
    "\n",
    "Figure 2: Histogram of efficiency changes (n=2,490) with mean = -3.67 ppp and median = -4.00 ppp. The left-skewed distribution confirms most timeouts lowered opponent efficiency.\n"
   ]
  },
  {
   "cell_type": "markdown",
   "id": "f27d1103",
   "metadata": {},
   "source": [
    "##\n",
    "![pre_vs_post_timeout_scatter.png](./dsa project/outputs/figures/pre_vs_post_timeout_scatter.png)\n",
    "\n",
    "Figure 3: Scatter plot comparing pre-timeout vs post-timeout efficiency (r = -0.764). Paired t-test: t=11.626, p=1.84e-30 shows significant average efficiency drop after timeouts.\n"
   ]
  },
  {
   "cell_type": "markdown",
   "id": "ec2f653f",
   "metadata": {},
   "source": [
    "##\n",
    "![effectiveness_by_season_bar.png](./dsa project/outputs/figures/effectiveness_by_season_bar.png)\n",
    "\n",
    "Figure 4: Bar chart of timeout effectiveness by season: 1999-00 (58.8%), 2004-05 (56.7%), 2010-11 (59.0%), 2016-17 (57.4%), 2022-23 (56.5%). Rates remain stable ~56–59%, showing consistency across eras.\n"
   ]
  },
  {
   "cell_type": "markdown",
   "id": "03d032ad",
   "metadata": {},
   "source": [
    "##\n",
    "![run_termination_by_season.png](./dsa project/outputs/figures/run_termination_by_season.png)\n",
    "\n",
    "Figure 5: Stacked bar chart of run termination by season; 56–59% of runs stopped post-timeout each season, mirroring effectiveness trends.\n"
   ]
  },
  {
   "cell_type": "markdown",
   "id": "8f0d2233",
   "metadata": {},
   "source": [
    "##\n",
    "![effectiveness_by_run_size_bar.png](./dsa project/outputs/figures/effectiveness_by_run_size_bar.png)\n",
    "\n",
    "Figure 6: Bar chart of timeout effectiveness by run size: 6–7 pts (56.7%), 8–9 pts (75.8%), 10–11 pts (66.7%). Effectiveness peaks during 8–9 point runs.\n"
   ]
  },
  {
   "cell_type": "markdown",
   "id": "37417c5a",
   "metadata": {},
   "source": [
    "##\n",
    "![efficiency_by_run_size_boxplot.png](./dsa project/outputs/figures/efficiency_by_run_size_boxplot.png)\n",
    "\n",
    "Figure 7: Box plot of efficiency change by run size: mean drops of -3.395 ppp (6–7), -10.110 ppp (8–9), -9.333 ppp (10–11). Larger runs experience deeper efficiency reductions.\n"
   ]
  },
  {
   "cell_type": "markdown",
   "id": "7b5b77bb",
   "metadata": {},
   "source": [
    "##\n",
    "![efficiency_by_quarter_boxplot.png](./dsa project/outputs/figures/efficiency_by_quarter_boxplot.png)\n",
    "\n",
    "Figure 8: Box plot of efficiency change by quarter: Q1=-7.59 ppp, Q2=-4.12 ppp, Q3=-2.85 ppp, Q4=-3.02 ppp, OT1=-2.10 ppp. First-quarter timeouts yield strongest impacts.\n"
   ]
  },
  {
   "cell_type": "markdown",
   "id": "915269f4",
   "metadata": {},
   "source": [
    "##\n",
    "![run_termination_by_quarter.png](./dsa project/outputs/figures/run_termination_by_quarter.png)\n",
    "\n",
    "Figure 9: Run termination rates by quarter: Q1=66.4%, Q2=60.1%, Q3=58.3%, Q4=54.2%, OT1=55.6%. Early-game timeouts more effectively halt runs.\n"
   ]
  },
  {
   "cell_type": "markdown",
   "id": "a5090e17",
   "metadata": {},
   "source": [
    "##\n",
    "![pre_post_shooting_comparison.png](./dsa project/outputs/figures/pre_post_shooting_comparison.png)\n",
    "\n",
    "Figure 10: Shooting efficiency before vs after timeouts: FG% drops from 55.9% to 41.2% (Δ=-14.7 pp, p=4.43e-127); TS% drops from 63.6% to 51.1% (Δ=-12.5 pp, p=3.91e-79), confirming strong shooting disruption.\n"
   ]
  },
  {
   "cell_type": "markdown",
   "id": "6e99f437",
   "metadata": {},
   "source": [
    "##\n",
    "![effectiveness_by_team_bar.png](./dsa project/outputs/figures/effectiveness_by_team_bar.png)\n",
    "\n",
    "Figure 11: Top teams by timeout effectiveness (min n=10): ORL=72.0%, NOP=70.5%, DET=68.0%. All top-15 teams exceed league average of 57.6%, indicating strategic variation.\n"
   ]
  }
 ],
 "metadata": {},
 "nbformat": 4,
 "nbformat_minor": 5
}
